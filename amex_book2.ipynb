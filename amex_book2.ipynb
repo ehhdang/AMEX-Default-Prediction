{
 "cells": [
  {
   "cell_type": "code",
   "execution_count": null,
   "metadata": {},
   "outputs": [],
   "source": []
  }
 ],
 "metadata": {
  "kernelspec": {
   "display_name": "Python 3.10.6 ('amex')",
   "language": "python",
   "name": "python3"
  },
  "language_info": {
   "name": "python",
   "version": "3.10.6"
  },
  "orig_nbformat": 4,
  "vscode": {
   "interpreter": {
    "hash": "27ec6af886a49969ddc9905294d303bdc305a1b878a3f7d541ee4006d8fbd4a9"
   }
  }
 },
 "nbformat": 4,
 "nbformat_minor": 2
}
