{
 "cells": [
  {
   "cell_type": "markdown",
   "metadata": {},
   "source": [
    "# AMEX Default Prediction"
   ]
  },
  {
   "cell_type": "markdown",
   "metadata": {},
   "source": [
    "## Set up"
   ]
  },
  {
   "cell_type": "code",
   "execution_count": 1,
   "metadata": {},
   "outputs": [],
   "source": [
    "import pandas as pd\n",
    "import numpy as np\n",
    "from matplotlib import pyplot as plt\n",
    "from tqdm import tqdm\n",
    "import pyarrow\n",
    "from sklearn import preprocessing"
   ]
  },
  {
   "cell_type": "markdown",
   "metadata": {},
   "source": [
    "## Preprocessing - Supervised"
   ]
  },
  {
   "cell_type": "code",
   "execution_count": 2,
   "metadata": {},
   "outputs": [],
   "source": [
    "from sklearn.model_selection import train_test_split\n"
   ]
  },
  {
   "cell_type": "code",
   "execution_count": 3,
   "metadata": {},
   "outputs": [],
   "source": [
    "# load parquet data\n",
    "data = pd.read_parquet('dataset/train.parquet')\n"
   ]
  },
  {
   "cell_type": "code",
   "execution_count": 4,
   "metadata": {},
   "outputs": [],
   "source": [
    "raw_labels = pd.read_csv('dataset/train_labels.csv')"
   ]
  },
  {
   "cell_type": "code",
   "execution_count": 5,
   "metadata": {},
   "outputs": [],
   "source": [
    "# use a smaller subset for fast pipeline during testing\n",
    "sample = raw_labels['customer_ID'][:10000]\n",
    "data = data[data['customer_ID'].isin(sample)]"
   ]
  },
  {
   "cell_type": "code",
   "execution_count": 6,
   "metadata": {},
   "outputs": [
    {
     "name": "stderr",
     "output_type": "stream",
     "text": [
      "100%|██████████| 188/188 [00:00<00:00, 179578.49it/s]\n"
     ]
    }
   ],
   "source": [
    "\n",
    "\n",
    "# replace -1's with NA's (to make it simpler to replace nas)\n",
    "data.replace(-1, np.nan)\n",
    "\n",
    "fill_values = {}\n",
    "pbar = tqdm(range(2,len(data.columns)))\n",
    "\n",
    "# get means for missing values\n",
    "for i in pbar:\n",
    "    # add to dictionary of means\n",
    "    fill_values[data.columns[i]] = 0 #np.mean(data[data.columns[i]])\n",
    "\n",
    "# fill missing values\n",
    "data.fillna(value = fill_values, inplace= True)\n",
    "\n",
    "\n",
    "# normalize with mean and std scaling\n"
   ]
  },
  {
   "cell_type": "code",
   "execution_count": 7,
   "metadata": {},
   "outputs": [],
   "source": [
    "# aggregate across customer_ids\n",
    "data_agg = data.drop('S_2', axis = 1).groupby('customer_ID', as_index = False).sum()\n",
    "\n",
    "# normalize again and split into X and y\n",
    "X = preprocessing.scale(data_agg.iloc[:,1:])\n",
    "y = data_agg[['customer_ID']].merge(raw_labels)['target']"
   ]
  },
  {
   "cell_type": "code",
   "execution_count": 8,
   "metadata": {},
   "outputs": [],
   "source": [
    "# train test split\n",
    "\n",
    "X_train, X_test, y_train, y_test = train_test_split(X,y, test_size = 0.2, random_state = 0)\n"
   ]
  },
  {
   "cell_type": "markdown",
   "metadata": {},
   "source": [
    "## Supervised method"
   ]
  },
  {
   "cell_type": "code",
   "execution_count": 9,
   "metadata": {},
   "outputs": [],
   "source": [
    "from sklearn.ensemble import GradientBoostingClassifier\n",
    "from sklearn.metrics import roc_auc_score"
   ]
  },
  {
   "cell_type": "markdown",
   "metadata": {},
   "source": [
    "### Evaluation Methods\n",
    "We want to recreate the evaluation metric from: https://www.kaggle.com/competitions/amex-default-prediction/overview/evaluation"
   ]
  },
  {
   "cell_type": "code",
   "execution_count": 10,
   "metadata": {},
   "outputs": [],
   "source": [
    "# recreates evaluation metric from: \n",
    "def evaluate_model(y_true, y_score):\n",
    "    AUC = roc_auc_score(y_true, y_score[:,1])\n",
    "    print(f\"AUC Score: {AUC}\")\n",
    "\n",
    "    # GINI from AUC formula: https://yassineelkhal.medium.com/confusion-matrix-auc-and-roc-curve-and-gini-clearly-explained-221788618eb2\n",
    "    Gini = (AUC*2)-1\n",
    "    print(f\"GINI Score: {Gini}\")\n",
    "\n",
    "    # combine arrays\n",
    "    combined = np.stack([y_score[:,1], np.array(y_true)], axis = 1)\n",
    "    #sort in descending order\n",
    "    combined  = combined[combined[:,0].argsort(),:][::-1]\n",
    "    #get top 4% ratio of positive predictions\n",
    "    n = int(len(combined)*0.04)\n",
    "    D = np.sum(combined[:n,1])/n\n",
    "    print(f\"Default rate at 4%: {D}\")\n",
    "    \n",
    "    M = 0.5*(Gini+D)\n",
    "    print(f\"M: {M}\")\n",
    "\n",
    "    return M\n",
    "\n",
    "\n",
    "# TODO: Plot Confusion Matrix\n",
    "\n",
    "# TODO: Plot GINI (OR AUC) curve"
   ]
  },
  {
   "cell_type": "markdown",
   "metadata": {},
   "source": [
    "### Model fitting"
   ]
  },
  {
   "cell_type": "code",
   "execution_count": 11,
   "metadata": {},
   "outputs": [],
   "source": [
    "xgb = GradientBoostingClassifier()\n",
    "xgb.fit(X_train, y_train)\n",
    "pred = xgb.predict_proba(X_test)"
   ]
  },
  {
   "cell_type": "code",
   "execution_count": 12,
   "metadata": {},
   "outputs": [
    {
     "name": "stdout",
     "output_type": "stream",
     "text": [
      "AUC Score: 0.9467307822570981\n",
      "GINI Score: 0.8934615645141961\n",
      "Default rate at 4%: 0.9625\n",
      "M: 0.927980782257098\n"
     ]
    },
    {
     "data": {
      "text/plain": [
       "0.927980782257098"
      ]
     },
     "execution_count": 12,
     "metadata": {},
     "output_type": "execute_result"
    }
   ],
   "source": [
    "evaluate_model(y_test, pred)"
   ]
  },
  {
   "cell_type": "code",
   "execution_count": null,
   "metadata": {},
   "outputs": [],
   "source": []
  },
  {
   "cell_type": "markdown",
   "metadata": {},
   "source": []
  }
 ],
 "metadata": {
  "kernelspec": {
   "display_name": "Python 3.10.6 ('amex')",
   "language": "python",
   "name": "python3"
  },
  "language_info": {
   "codemirror_mode": {
    "name": "ipython",
    "version": 3
   },
   "file_extension": ".py",
   "mimetype": "text/x-python",
   "name": "python",
   "nbconvert_exporter": "python",
   "pygments_lexer": "ipython3",
   "version": "3.10.6"
  },
  "orig_nbformat": 4,
  "vscode": {
   "interpreter": {
    "hash": "27ec6af886a49969ddc9905294d303bdc305a1b878a3f7d541ee4006d8fbd4a9"
   }
  }
 },
 "nbformat": 4,
 "nbformat_minor": 2
}
