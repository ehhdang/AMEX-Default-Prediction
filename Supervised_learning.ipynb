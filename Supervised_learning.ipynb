{
 "cells": [
  {
   "cell_type": "markdown",
   "metadata": {},
   "source": [
    "# AMEX Default Prediction"
   ]
  },
  {
   "cell_type": "markdown",
   "metadata": {},
   "source": [
    "## Set up"
   ]
  },
  {
   "cell_type": "code",
   "execution_count": 1,
   "metadata": {},
   "outputs": [],
   "source": [
    "import pandas as pd\n",
    "import numpy as np\n",
    "from matplotlib import pyplot as plt\n",
    "from tqdm import tqdm\n",
    "import pyarrow\n",
    "from sklearn import preprocessing"
   ]
  },
  {
   "cell_type": "markdown",
   "metadata": {},
   "source": [
    "## Preprocessing - Supervised"
   ]
  },
  {
   "cell_type": "code",
   "execution_count": 2,
   "metadata": {},
   "outputs": [],
   "source": [
    "from sklearn.model_selection import train_test_split\n"
   ]
  },
  {
   "cell_type": "code",
   "execution_count": 3,
   "metadata": {},
   "outputs": [],
   "source": [
    "# global parameters\n",
    "SAMPLE = True"
   ]
  },
  {
   "cell_type": "code",
   "execution_count": 4,
   "metadata": {},
   "outputs": [],
   "source": [
    "# load parquet data\n",
    "data = pd.read_parquet('dataset/train.parquet')\n"
   ]
  },
  {
   "cell_type": "code",
   "execution_count": 5,
   "metadata": {},
   "outputs": [],
   "source": [
    "raw_labels = pd.read_csv('dataset/train_labels.csv')"
   ]
  },
  {
   "cell_type": "code",
   "execution_count": 6,
   "metadata": {},
   "outputs": [],
   "source": [
    "# use a smaller subset for fast pipeline during testing\n",
    "if SAMPLE:\n",
    "    sample = raw_labels['customer_ID'][:10000]\n",
    "    data = data[data['customer_ID'].isin(sample)]"
   ]
  },
  {
   "cell_type": "code",
   "execution_count": 7,
   "metadata": {},
   "outputs": [],
   "source": [
    "def preprocessing_pipeline(data, training = False):\n",
    "\n",
    "    # replace -1's with NA's (to make it simpler to replace nas)\n",
    "    data.replace(-1, np.nan)\n",
    "\n",
    "    fill_values = {}\n",
    "    pbar = tqdm(range(2,len(data.columns)))\n",
    "\n",
    "    # get means for missing values\n",
    "    for i in pbar:\n",
    "        # add to dictionary of means\n",
    "        fill_values[data.columns[i]] = np.mean(data[data.columns[i]])\n",
    "\n",
    "    # fill missing values\n",
    "    data.fillna(value = fill_values, inplace= True)\n",
    "\n",
    "\n",
    "    # normalize with mean and std scaling\n",
    "\n",
    "\n",
    "    # aggregate across customer_ids\n",
    "    data_agg = data.drop('S_2', axis = 1).groupby('customer_ID', as_index = False).sum()\n",
    "\n",
    "    # normalize again and split into X and y\n",
    "    X = preprocessing.scale(data_agg.iloc[:,1:])\n",
    "    if training:\n",
    "        y = data_agg[['customer_ID']].merge(raw_labels)['target']\n",
    "        return X,y\n",
    "    else:\n",
    "        return X, data_agg['customer_ID']\n"
   ]
  },
  {
   "cell_type": "code",
   "execution_count": null,
   "metadata": {},
   "outputs": [],
   "source": []
  },
  {
   "cell_type": "code",
   "execution_count": 8,
   "metadata": {},
   "outputs": [
    {
     "name": "stderr",
     "output_type": "stream",
     "text": [
      "100%|██████████| 188/188 [00:00<00:00, 1808.62it/s]\n"
     ]
    }
   ],
   "source": [
    "# train test split\n",
    "if SAMPLE:\n",
    "    # preprocess dataset\n",
    "    X, y = preprocessing_pipeline(data, training= True)\n",
    "\n",
    "    # split into training and test\n",
    "    X_train, X_test, y_train, y_test = train_test_split(X,y, test_size = 0.2, random_state = 0)\n",
    "else:\n",
    "    # preprocess train dataset\n",
    "    X_train, y_train = preprocessing_pipeline(data, training= True)\n",
    "\n",
    "    # get test dataset\n",
    "    test_data = pd.read_parquet('dataset/test.parquet')\n",
    "    X_test, cust_ids = preprocessing_pipeline(test_data, training= False)\n",
    "\n",
    "    del test_data\n",
    "    \n",
    "del data\n",
    "\n",
    "\n"
   ]
  },
  {
   "cell_type": "code",
   "execution_count": null,
   "metadata": {},
   "outputs": [],
   "source": []
  },
  {
   "cell_type": "markdown",
   "metadata": {},
   "source": [
    "## Supervised method"
   ]
  },
  {
   "cell_type": "code",
   "execution_count": 9,
   "metadata": {},
   "outputs": [],
   "source": [
    "from sklearn.ensemble import GradientBoostingClassifier\n",
    "from sklearn.metrics import roc_auc_score\n",
    "from sklearn.metrics import ConfusionMatrixDisplay, confusion_matrix, RocCurveDisplay"
   ]
  },
  {
   "cell_type": "markdown",
   "metadata": {},
   "source": [
    "### Evaluation Methods\n",
    "We want to recreate the evaluation metric from the competition: https://www.kaggle.com/competitions/amex-default-prediction/overview/evaluation\n",
    "For this, first we introduce two terms:\n",
    "\n",
    "- Normalized Gini Coefficient (G). Here is was calculated from the AUC score using the formula\n",
    "$$GINI = (2*AUC)-1 $$\n",
    "- Default rate at 4% (D). This captures a Sensitivity/Recall statistic by calculating the portion of defaults in the highest-ranked 4% of predictions.\n",
    "  \n",
    "Using **G** and **D** our evaluaton metric **M** is found by:\n",
    "$$M = 0.5 \\cdot(G+D) $$\n",
    "\n",
    "The best-performing models achieve scores of 0.80 in this metric, and we hope to achieve accuracy close to that. There appears to be some inconsistency with regards to the training and test data provided by AMEX, as the test data is not merely a random sample of the training data. Instead the test data covers not only a separate set of customers, but also a different time period, Initial results show the M score close to 93% in the validation set, but around 70% in the competition. Therefore, validation accuracy is not a true reflection of test accuracy in this setting."
   ]
  },
  {
   "cell_type": "code",
   "execution_count": 19,
   "metadata": {},
   "outputs": [],
   "source": [
    "# recreates evaluation metric from: \n",
    "def evaluate_model(y_true, y_score, traditional = False):\n",
    "    # produce traditional metric such as Precision, Recall, F-measure and accuracy\n",
    "    if traditional:\n",
    "        threshold = 0.5\n",
    "        pred_labels  = (y_score[:,1] > 0.5)\n",
    "        true_positive = np.sum(np.logical_and(y_true, pred_labels))\n",
    "        false_positive = np.sum(np.logical_and(1-y_true, pred_labels))\n",
    "        false_negative = np.sum(np.logical_and(y_true, 1-pred_labels))\n",
    "        true_negative = np.sum(np.logical_and(1-y_true, 1-pred_labels))\n",
    "\n",
    "        print(\"Traditional Metrics:\")\n",
    "        print(f\"    tp: {true_positive}, fp: {false_positive}, tn: {true_negative}, fn: {false_negative}\")\n",
    "        precision = true_positive / (true_positive + false_positive)\n",
    "        print(\"     The precision score is \", precision)\n",
    "        recall = true_positive / (true_positive + false_negative)\n",
    "        print(\"     The recall score is \", recall)\n",
    "        accuracy = (true_positive + true_negative) / (true_positive + true_negative + false_negative + false_positive)\n",
    "        print(\"     The accuracy score is \", accuracy)\n",
    "        fmeasure = 2/(1/precision + 1/recall)\n",
    "        print(\"     F-Measure: \", fmeasure)\n",
    "\n",
    "    AUC = roc_auc_score(y_true, y_score[:,1])\n",
    "    print(f\"AUC Score: {AUC}\")\n",
    "\n",
    "    # GINI from AUC formula: https://yassineelkhal.medium.com/confusion-matrix-auc-and-roc-curve-and-gini-clearly-explained-221788618eb2\n",
    "    Gini = (AUC*2)-1\n",
    "    print(f\"GINI Score: {Gini}\")\n",
    "\n",
    "    # combine arrays\n",
    "    combined = np.stack([y_score[:,1], np.array(y_true)], axis = 1)\n",
    "    #sort in descending order\n",
    "    combined  = combined[combined[:,0].argsort(),:][::-1]\n",
    "    #get top 4% ratio of positive predictions\n",
    "    n = int(len(combined)*0.04)\n",
    "    D = np.sum(combined[:n,1])/n\n",
    "    print(f\"Default rate at 4%: {D}\")\n",
    "    \n",
    "    M = 0.5*(Gini+D)\n",
    "    print(f\"M: {M}\")\n",
    "\n",
    "    return M\n",
    "\n",
    "\n",
    "# Plot Confusion Matrix\n",
    "def plot_confusion_matrix(y_true, y_score):\n",
    "    pred_labels = y_score[:,1]>0.5\n",
    "    cm = confusion_matrix(y_true, pred_labels)\n",
    "    cm_display = ConfusionMatrixDisplay(confusion_matrix=cm, display_labels=[\"Compliance\", \"Default\"])\n",
    "    cm_display.plot()\n",
    "    plt.show()\n",
    "\n",
    "# Plot GINI (OR AUC) curve\n",
    "def plot_GINI(y_true, y_score):\n",
    "    RocCurveDisplay.from_predictions(y_true, y_score[:,1])\n",
    "    plt.show()\n",
    "\n"
   ]
  },
  {
   "cell_type": "markdown",
   "metadata": {},
   "source": [
    "### Model fitting"
   ]
  },
  {
   "cell_type": "code",
   "execution_count": 11,
   "metadata": {},
   "outputs": [
    {
     "name": "stdout",
     "output_type": "stream",
     "text": [
      "finished training\n"
     ]
    }
   ],
   "source": [
    "max_samples_training = -1\n",
    "xgb = GradientBoostingClassifier()\n",
    "xgb.fit(X_train[:max_samples_training], y_train[:max_samples_training])\n",
    "print(\"finished training\")\n"
   ]
  },
  {
   "cell_type": "code",
   "execution_count": 12,
   "metadata": {},
   "outputs": [
    {
     "name": "stdout",
     "output_type": "stream",
     "text": [
      "finished evaluating\n"
     ]
    }
   ],
   "source": [
    "pred = xgb.predict_proba(X_test)\n",
    "print(\"finished evaluating\")"
   ]
  },
  {
   "cell_type": "code",
   "execution_count": 20,
   "metadata": {},
   "outputs": [
    {
     "name": "stdout",
     "output_type": "stream",
     "text": [
      "Traditional Metrics:\n",
      "    tp: 392, fp: 100, tn: 1382, fn: 126\n",
      "     The precision score is  0.7967479674796748\n",
      "     The recall score is  0.7567567567567568\n",
      "     The accuracy score is  0.887\n",
      "     F-Measure:  0.7762376237623763\n",
      "AUC Score: 0.9457583668109985\n",
      "GINI Score: 0.8915167336219969\n",
      "Default rate at 4%: 0.975\n",
      "M: 0.9332583668109984\n"
     ]
    },
    {
     "data": {
      "image/png": "[encoded data removed]",
      "text/plain": [
       "<Figure size 640x480 with 2 Axes>"
      ]
     },
     "metadata": {},
     "output_type": "display_data"
    },
    {
     "data": {
      "image/png": "[encoded data removed]",
      "text/plain": [
       "<Figure size 640x480 with 1 Axes>"
      ]
     },
     "metadata": {},
     "output_type": "display_data"
    }
   ],
   "source": [
    "if SAMPLE:\n",
    "    evaluate_model(y_test, pred, traditional = True)\n",
    "    plot_confusion_matrix(y_test,pred)\n",
    "    plot_GINI(y_test,pred)\n",
    "\n",
    "else:\n",
    "    results = pd.DataFrame({'customer_ID':cust_ids, \"prediction\":pred[:,1]})\n",
    "    results.to_csv(\"submission.csv\", index = False)"
   ]
  },
  {
   "cell_type": "code",
   "execution_count": null,
   "metadata": {},
   "outputs": [],
   "source": []
  },
  {
   "cell_type": "code",
   "execution_count": null,
   "metadata": {},
   "outputs": [],
   "source": []
  },
  {
   "cell_type": "markdown",
   "metadata": {},
   "source": []
  }
 ],
 "metadata": {
  "kernelspec": {
   "display_name": "Python 3.10.6 ('amex')",
   "language": "python",
   "name": "python3"
  },
  "language_info": {
   "codemirror_mode": {
    "name": "ipython",
    "version": 3
   },
   "file_extension": ".py",
   "mimetype": "text/x-python",
   "name": "python",
   "nbconvert_exporter": "python",
   "pygments_lexer": "ipython3",
   "version": "3.10.6"
  },
  "orig_nbformat": 4,
  "vscode": {
   "interpreter": {
    "hash": "27ec6af886a49969ddc9905294d303bdc305a1b878a3f7d541ee4006d8fbd4a9"
   }
  }
 },
 "nbformat": 4,
 "nbformat_minor": 2
}
